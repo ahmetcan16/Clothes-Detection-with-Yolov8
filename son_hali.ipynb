{
 "cells": [
  {
   "cell_type": "code",
   "execution_count": 3,
   "id": "cb29f53f-f20e-4e82-8d52-c5c9a7d22840",
   "metadata": {},
   "outputs": [
    {
     "name": "stdout",
     "output_type": "stream",
     "text": [
      "Overwriting clothes_streamlit.py\n"
     ]
    }
   ],
   "source": [
    "%%writefile clothes_streamlit.py\n",
    "\n",
    "import streamlit as st\n",
    "from ultralytics import YOLO\n",
    "import PIL\n",
    "import requests\n",
    "from io import BytesIO\n",
    "import cv2\n",
    "\n",
    "st.set_page_config( page_title = \"Object Detection using YOLOv8\", page_icon=\"🤖\", layout=\"wide\", initial_sidebar_state=\"expanded\")\n",
    "st.title(\"Clothes Detection using YOLOv8\")\n",
    "\n",
    "confidence = float(st.sidebar.slider(\"Select Model Confidence\", 25, 100, 40)) / 100\n",
    "model_path = \"best.pt\"\n",
    "\n",
    "try:\n",
    "    model = YOLO(model_path)\n",
    "except Exception as ex:\n",
    "    st.error(f\"Unable to load model. Check the specified path: {model_path}\")\n",
    "    st.error(ex)\n",
    "    \n",
    "source_radio = st.sidebar.radio(\"Select Source\", [\"IMAGE in locale\", \"Image in link\"])\n",
    "\n",
    "source_img = None\n",
    "\n",
    "if source_radio == \"IMAGE in locale\":\n",
    "    st.write(\"Classes : T-shirt,  Dress,  Jacket,  Pants,  Shirt,  Short,  Skirt,  Sweater\")\n",
    "    source_img = st.sidebar.file_uploader(\"Choose an image...\", type = (\"jpg\", \"jpeg\", \"png\", 'bmp', 'webp'))\n",
    "\n",
    "    col1, col2 = st.columns(2)\n",
    "\n",
    "    with col1:\n",
    "        try:\n",
    "            if source_img is None:\n",
    "                default_image_path = str(\"trendyol.png\")\n",
    "                default_image = PIL.Image.open(default_image_path)\n",
    "                st.image(default_image_path, caption=\"Default Image\", use_column_width=True)\n",
    "                \n",
    "            else:\n",
    "                uploaded_image = PIL.Image.open(source_img)\n",
    "                st.image(source_img, caption=\"Uploaded Image\", use_column_width=True)\n",
    "                \n",
    "        except Exception as ex:\n",
    "            st.error(\"Error occurred while opening the image.\")\n",
    "            st.error(ex)\n",
    "\n",
    "    with col2:\n",
    "        if source_img is None:\n",
    "            default_detected_image_path = str(\"trendyol_detected.png\")\n",
    "            default_detected_image = PIL.Image.open(default_detected_image_path)\n",
    "            st.image(default_detected_image_path, caption='Detected Image', use_column_width=True)\n",
    "        else:\n",
    "            if st.sidebar.button('Detect Objects'):\n",
    "                res = model.predict(uploaded_image, conf=confidence)\n",
    "                boxes = res[0].boxes\n",
    "                res_plotted = res[0].plot()[:, :, ::-1]\n",
    "                st.image(res_plotted, caption='Detected Image', use_column_width=True)\n",
    "                try:\n",
    "                    with st.expander(\"Detection Results\"):\n",
    "                        for box in boxes:\n",
    "                            st.write(box.data)\n",
    "                except Exception as ex:\n",
    "                    # st.write(ex)\n",
    "                    st.write(\"No image is uploaded yet!\")\n",
    "                    \n",
    "else:\n",
    "    st.write(\"Link uzerinden tahmin yapmak istiyorsaniz; resme sag tiklayip *Resim adresini kopyala* kismindan url yi almaniz ve Sidebar'a kopyalamaniz gerekmektedir.\")\n",
    "    image_url = st.sidebar.text_input(\"Give an image Link...\")\n",
    "    col1, col2 = st.columns(2)\n",
    "    with col1:\n",
    "        \n",
    "        try:\n",
    "            response = requests.get(image_url)\n",
    "            image = PIL.Image.open(BytesIO(response.content))\n",
    "\n",
    "            st.image(image, caption='', use_column_width=True)\n",
    "        except Exception as e:\n",
    "            st.error(\"There was an error uploading the image. Please enter a valid internet link.\")\n",
    "            \n",
    "    with col2:\n",
    "        if st.sidebar.button('Detect Objects'):\n",
    "                res = model.predict(image, conf=confidence)\n",
    "                boxes = res[0].boxes\n",
    "                res_plotted = res[0].plot()[:, :, ::-1]\n",
    "                st.image(res_plotted, caption='Detected Image', use_column_width=True)\n",
    "                try:\n",
    "                    with st.expander(\"Detection Results\"):\n",
    "                        for box in boxes:\n",
    "                            st.write(box.data)\n",
    "                except Exception as ex:\n",
    "                    # st.write(ex)\n",
    "                    st.write(\"No image is uploaded yet!\")"
   ]
  },
  {
   "cell_type": "code",
   "execution_count": 2,
   "id": "bc47c5d0-7b7f-4d15-a477-da13a358e286",
   "metadata": {},
   "outputs": [
    {
     "name": "stdout",
     "output_type": "stream",
     "text": [
      "^C\n"
     ]
    }
   ],
   "source": [
    "!streamlit run clothes_streamlit.py"
   ]
  },
  {
   "cell_type": "code",
   "execution_count": null,
   "id": "62268814-2bfb-498b-9b42-f6632792fdac",
   "metadata": {},
   "outputs": [],
   "source": []
  }
 ],
 "metadata": {
  "kernelspec": {
   "display_name": "Python 3 (ipykernel)",
   "language": "python",
   "name": "python3"
  },
  "language_info": {
   "codemirror_mode": {
    "name": "ipython",
    "version": 3
   },
   "file_extension": ".py",
   "mimetype": "text/x-python",
   "name": "python",
   "nbconvert_exporter": "python",
   "pygments_lexer": "ipython3",
   "version": "3.10.9"
  }
 },
 "nbformat": 4,
 "nbformat_minor": 5
}
